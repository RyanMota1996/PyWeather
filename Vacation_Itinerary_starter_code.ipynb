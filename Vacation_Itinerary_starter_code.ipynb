{
 "cells": [
  {
   "cell_type": "markdown",
   "metadata": {},
   "source": [
    "## Deliverable 3. Create a Travel Itinerary Map."
   ]
  },
  {
   "cell_type": "code",
   "execution_count": 1,
   "metadata": {},
   "outputs": [],
   "source": [
    "# Dependencies and Setup\n",
    "import pandas as pd\n",
    "import requests\n",
    "import gmaps\n",
    "import gmaps.datasets\n",
    "\n",
    "# Import API key\n",
    "from config import google_api\n",
    "\n",
    "# Configure gmaps\n",
    "gmaps.configure(api_key=google_api)"
   ]
  },
  {
   "cell_type": "code",
   "execution_count": 2,
   "metadata": {},
   "outputs": [
    {
     "data": {
      "text/html": [
       "<div>\n",
       "<style scoped>\n",
       "    .dataframe tbody tr th:only-of-type {\n",
       "        vertical-align: middle;\n",
       "    }\n",
       "\n",
       "    .dataframe tbody tr th {\n",
       "        vertical-align: top;\n",
       "    }\n",
       "\n",
       "    .dataframe thead th {\n",
       "        text-align: right;\n",
       "    }\n",
       "</style>\n",
       "<table border=\"1\" class=\"dataframe\">\n",
       "  <thead>\n",
       "    <tr style=\"text-align: right;\">\n",
       "      <th></th>\n",
       "      <th>City_ID</th>\n",
       "      <th>City</th>\n",
       "      <th>Country</th>\n",
       "      <th>Max Temperature</th>\n",
       "      <th>Description</th>\n",
       "      <th>Latitude (Deg)</th>\n",
       "      <th>Longitude (Deg)</th>\n",
       "      <th>Hotel Name</th>\n",
       "    </tr>\n",
       "  </thead>\n",
       "  <tbody>\n",
       "    <tr>\n",
       "      <th>0</th>\n",
       "      <td>0</td>\n",
       "      <td>cidreira</td>\n",
       "      <td>BR</td>\n",
       "      <td>70.59</td>\n",
       "      <td>clear sky</td>\n",
       "      <td>-30.1811</td>\n",
       "      <td>-50.2056</td>\n",
       "      <td>Hotel Castelo</td>\n",
       "    </tr>\n",
       "    <tr>\n",
       "      <th>1</th>\n",
       "      <td>4</td>\n",
       "      <td>ponta do sol</td>\n",
       "      <td>PT</td>\n",
       "      <td>65.01</td>\n",
       "      <td>broken clouds</td>\n",
       "      <td>32.6667</td>\n",
       "      <td>-17.1000</td>\n",
       "      <td>Hotel do Campo</td>\n",
       "    </tr>\n",
       "    <tr>\n",
       "      <th>2</th>\n",
       "      <td>5</td>\n",
       "      <td>mar del plata</td>\n",
       "      <td>AR</td>\n",
       "      <td>69.82</td>\n",
       "      <td>few clouds</td>\n",
       "      <td>-38.0023</td>\n",
       "      <td>-57.5575</td>\n",
       "      <td>Gran Hotel Mar del Plata</td>\n",
       "    </tr>\n",
       "    <tr>\n",
       "      <th>3</th>\n",
       "      <td>6</td>\n",
       "      <td>wahiawa</td>\n",
       "      <td>US</td>\n",
       "      <td>77.79</td>\n",
       "      <td>few clouds</td>\n",
       "      <td>21.5028</td>\n",
       "      <td>-158.0236</td>\n",
       "      <td>Aloha Wahiawa</td>\n",
       "    </tr>\n",
       "    <tr>\n",
       "      <th>4</th>\n",
       "      <td>7</td>\n",
       "      <td>rikitea</td>\n",
       "      <td>PF</td>\n",
       "      <td>75.94</td>\n",
       "      <td>overcast clouds</td>\n",
       "      <td>-23.1203</td>\n",
       "      <td>-134.9692</td>\n",
       "      <td>People ThankYou</td>\n",
       "    </tr>\n",
       "  </tbody>\n",
       "</table>\n",
       "</div>"
      ],
      "text/plain": [
       "   City_ID           City Country  Max Temperature      Description  \\\n",
       "0        0       cidreira      BR            70.59        clear sky   \n",
       "1        4   ponta do sol      PT            65.01    broken clouds   \n",
       "2        5  mar del plata      AR            69.82       few clouds   \n",
       "3        6        wahiawa      US            77.79       few clouds   \n",
       "4        7        rikitea      PF            75.94  overcast clouds   \n",
       "\n",
       "   Latitude (Deg)  Longitude (Deg)                Hotel Name  \n",
       "0        -30.1811         -50.2056             Hotel Castelo  \n",
       "1         32.6667         -17.1000            Hotel do Campo  \n",
       "2        -38.0023         -57.5575  Gran Hotel Mar del Plata  \n",
       "3         21.5028        -158.0236             Aloha Wahiawa  \n",
       "4        -23.1203        -134.9692           People ThankYou  "
      ]
     },
     "execution_count": 2,
     "metadata": {},
     "output_type": "execute_result"
    }
   ],
   "source": [
    "# 1. Read the WeatherPy_vacation.csv into a DataFrame.\n",
    "vacation_df = pd.read_csv(\"hotels.csv\")\n",
    "vacation_df.head()"
   ]
  },
  {
   "cell_type": "code",
   "execution_count": 3,
   "metadata": {},
   "outputs": [],
   "source": [
    "# 2. Using the template add the city name, the country code, the weather description and maximum temperature for the city.\n",
    "info_box=\"\"\"\n",
    "<dl>\n",
    "<dt>City</dt><dd>{City}</dd>\n",
    "<dt>Country</dt><dd>{Country}</dd>\n",
    "<dt>Max Temperature\t</dt><dd>{Max Temperature} °F</dd>\n",
    "<dt>Description</dt><dd>{Description}</dd>\n",
    "</dl>\n",
    "\"\"\"\n",
    "\n",
    "# 3a. Get the data from each row and add it to the formatting template and store the data in a list.\n",
    "trip_info = [info_box.format(**row) for index, row in vacation_df.iterrows()]\n",
    "\n",
    "# 3b. Get the latitude and longitude from each row and store in a new DataFrame.\n",
    "locations = vacation_df[[\"Latitude (Deg)\", \"Longitude (Deg)\"]]"
   ]
  },
  {
   "cell_type": "code",
   "execution_count": 4,
   "metadata": {
    "scrolled": false
   },
   "outputs": [
    {
     "data": {
      "application/vnd.jupyter.widget-view+json": {
       "model_id": "a4a2e0e0f75b48bd9a07685b001ba450",
       "version_major": 2,
       "version_minor": 0
      },
      "text/plain": [
       "Figure(layout=FigureLayout(height='420px'))"
      ]
     },
     "metadata": {},
     "output_type": "display_data"
    }
   ],
   "source": [
    "# 4a. Add a marker layer for each city to the map.\n",
    "marker_layer = gmaps.marker_layer(locations, info_box_content=trip_info)\n",
    "fig = gmaps.figure()\n",
    "fig.add_layer(marker_layer)\n",
    "\n",
    "# 4b. Display the figure\n",
    "\n",
    "fig"
   ]
  },
  {
   "cell_type": "code",
   "execution_count": 13,
   "metadata": {
    "scrolled": false
   },
   "outputs": [
    {
     "data": {
      "text/html": [
       "<div>\n",
       "<style scoped>\n",
       "    .dataframe tbody tr th:only-of-type {\n",
       "        vertical-align: middle;\n",
       "    }\n",
       "\n",
       "    .dataframe tbody tr th {\n",
       "        vertical-align: top;\n",
       "    }\n",
       "\n",
       "    .dataframe thead th {\n",
       "        text-align: right;\n",
       "    }\n",
       "</style>\n",
       "<table border=\"1\" class=\"dataframe\">\n",
       "  <thead>\n",
       "    <tr style=\"text-align: right;\">\n",
       "      <th></th>\n",
       "      <th>City_ID</th>\n",
       "      <th>City</th>\n",
       "      <th>Country</th>\n",
       "      <th>Max Temperature</th>\n",
       "      <th>Description</th>\n",
       "      <th>Latitude (Deg)</th>\n",
       "      <th>Longitude (Deg)</th>\n",
       "      <th>Hotel Name</th>\n",
       "    </tr>\n",
       "  </thead>\n",
       "  <tbody>\n",
       "    <tr>\n",
       "      <th>198</th>\n",
       "      <td>521</td>\n",
       "      <td>amtala</td>\n",
       "      <td>IN</td>\n",
       "      <td>67.95</td>\n",
       "      <td>clear sky</td>\n",
       "      <td>22.3714</td>\n",
       "      <td>88.2944</td>\n",
       "      <td>Ibiza The Fern Resort &amp; Spa</td>\n",
       "    </tr>\n",
       "  </tbody>\n",
       "</table>\n",
       "</div>"
      ],
      "text/plain": [
       "     City_ID    City Country  Max Temperature Description  Latitude (Deg)  \\\n",
       "198      521  amtala      IN            67.95   clear sky         22.3714   \n",
       "\n",
       "     Longitude (Deg)                   Hotel Name  \n",
       "198          88.2944  Ibiza The Fern Resort & Spa  "
      ]
     },
     "execution_count": 13,
     "metadata": {},
     "output_type": "execute_result"
    }
   ],
   "source": [
    "# From the map above pick 4 cities and create a vacation itinerary route to travel between the four cities. \n",
    "# 5. Create DataFrames for each city by filtering the 'vacation_df' using the loc method. \n",
    "# Hint: The starting and ending city should be the same city.\n",
    "\n",
    "vacation_start = vacation_df.loc[vacation_df['City']=='jamalpur']\n",
    "vacation_end = vacation_df.loc[vacation_df[\"City\"]==\"jamalpur\"]\n",
    "vacation_stop1 = vacation_df.loc[vacation_df[\"City\"]=='harindanga']\n",
    "vacation_stop2 = vacation_df.loc[vacation_df[\"City\"]=='arvi']\n",
    "vacation_stop3 = vacation_df.loc[vacation_df[\"City\"]=='amtala']\n",
    "\n",
    "vacation_start\n",
    "\n",
    "vacation_end\n",
    "\n",
    "vacation_stop1\n",
    "\n",
    "vacation_stop2\n",
    "\n",
    "vacation_stop3"
   ]
  },
  {
   "cell_type": "code",
   "execution_count": 14,
   "metadata": {},
   "outputs": [],
   "source": [
    "# 6. Get the latitude-longitude pairs as tuples from each city DataFrame using the to_numpy function and list indexing.\n",
    "start = vacation_start['Latitude (Deg)'].to_numpy()[0],vacation_start['Longitude (Deg)'].to_numpy()[0]\n",
    "end = vacation_end['Latitude (Deg)'].to_numpy()[0],vacation_end['Longitude (Deg)'].to_numpy()[0]\n",
    "stop1 = vacation_stop1['Latitude (Deg)'].to_numpy()[0],vacation_stop1['Longitude (Deg)'].to_numpy()[0]\n",
    "stop2 = vacation_stop2['Latitude (Deg)'].to_numpy()[0],vacation_stop2['Longitude (Deg)'].to_numpy()[0]\n",
    "stop3 = vacation_stop3['Latitude (Deg)'].to_numpy()[0],vacation_stop3['Longitude (Deg)'].to_numpy()[0]"
   ]
  },
  {
   "cell_type": "code",
   "execution_count": 15,
   "metadata": {
    "scrolled": false
   },
   "outputs": [
    {
     "data": {
      "application/vnd.jupyter.widget-view+json": {
       "model_id": "e5c01622786048bea4db0ecc1361d02d",
       "version_major": 2,
       "version_minor": 0
      },
      "text/plain": [
       "Figure(layout=FigureLayout(height='420px'))"
      ]
     },
     "metadata": {},
     "output_type": "display_data"
    }
   ],
   "source": [
    "# 7. Create a direction layer map using the start and end latitude-longitude pairs,\n",
    "# and stop1, stop2, and stop3 as the waypoints. The travel_mode should be \"DRIVING\", \"BICYCLING\", or \"WALKING\".\n",
    "\n",
    "# Latitude-longitude pairs\n",
    "start\n",
    "stop1\n",
    "stop2\n",
    "stop3\n",
    "end\n",
    "\n",
    "fig = gmaps.figure()\n",
    "start2end = gmaps.directions_layer(\n",
    "        start, end, waypoints=[stop1, stop2, stop3], travel_mode=\"WALKING\")\n",
    "\n",
    "fig.add_layer(start2end)\n",
    "fig\n",
    "\n"
   ]
  },
  {
   "cell_type": "code",
   "execution_count": 16,
   "metadata": {},
   "outputs": [
    {
     "data": {
      "text/html": [
       "<div>\n",
       "<style scoped>\n",
       "    .dataframe tbody tr th:only-of-type {\n",
       "        vertical-align: middle;\n",
       "    }\n",
       "\n",
       "    .dataframe tbody tr th {\n",
       "        vertical-align: top;\n",
       "    }\n",
       "\n",
       "    .dataframe thead th {\n",
       "        text-align: right;\n",
       "    }\n",
       "</style>\n",
       "<table border=\"1\" class=\"dataframe\">\n",
       "  <thead>\n",
       "    <tr style=\"text-align: right;\">\n",
       "      <th></th>\n",
       "      <th>City_ID</th>\n",
       "      <th>City</th>\n",
       "      <th>Country</th>\n",
       "      <th>Max Temperature</th>\n",
       "      <th>Description</th>\n",
       "      <th>Latitude (Deg)</th>\n",
       "      <th>Longitude (Deg)</th>\n",
       "      <th>Hotel Name</th>\n",
       "    </tr>\n",
       "  </thead>\n",
       "  <tbody>\n",
       "    <tr>\n",
       "      <th>0</th>\n",
       "      <td>606</td>\n",
       "      <td>jamalpur</td>\n",
       "      <td>BD</td>\n",
       "      <td>60.67</td>\n",
       "      <td>clear sky</td>\n",
       "      <td>24.9167</td>\n",
       "      <td>89.9333</td>\n",
       "      <td>College hostel</td>\n",
       "    </tr>\n",
       "    <tr>\n",
       "      <th>1</th>\n",
       "      <td>222</td>\n",
       "      <td>harindanga</td>\n",
       "      <td>IN</td>\n",
       "      <td>67.98</td>\n",
       "      <td>clear sky</td>\n",
       "      <td>22.0383</td>\n",
       "      <td>88.3214</td>\n",
       "      <td>Hasanur Builders</td>\n",
       "    </tr>\n",
       "    <tr>\n",
       "      <th>2</th>\n",
       "      <td>354</td>\n",
       "      <td>arvi</td>\n",
       "      <td>IN</td>\n",
       "      <td>63.03</td>\n",
       "      <td>clear sky</td>\n",
       "      <td>20.9833</td>\n",
       "      <td>78.2333</td>\n",
       "      <td>Geet shirbhate</td>\n",
       "    </tr>\n",
       "    <tr>\n",
       "      <th>3</th>\n",
       "      <td>521</td>\n",
       "      <td>amtala</td>\n",
       "      <td>IN</td>\n",
       "      <td>67.95</td>\n",
       "      <td>clear sky</td>\n",
       "      <td>22.3714</td>\n",
       "      <td>88.2944</td>\n",
       "      <td>Ibiza The Fern Resort &amp; Spa</td>\n",
       "    </tr>\n",
       "    <tr>\n",
       "      <th>4</th>\n",
       "      <td>606</td>\n",
       "      <td>jamalpur</td>\n",
       "      <td>BD</td>\n",
       "      <td>60.67</td>\n",
       "      <td>clear sky</td>\n",
       "      <td>24.9167</td>\n",
       "      <td>89.9333</td>\n",
       "      <td>College hostel</td>\n",
       "    </tr>\n",
       "  </tbody>\n",
       "</table>\n",
       "</div>"
      ],
      "text/plain": [
       "   City_ID        City Country  Max Temperature Description  Latitude (Deg)  \\\n",
       "0      606    jamalpur      BD            60.67   clear sky         24.9167   \n",
       "1      222  harindanga      IN            67.98   clear sky         22.0383   \n",
       "2      354        arvi      IN            63.03   clear sky         20.9833   \n",
       "3      521      amtala      IN            67.95   clear sky         22.3714   \n",
       "4      606    jamalpur      BD            60.67   clear sky         24.9167   \n",
       "\n",
       "   Longitude (Deg)                   Hotel Name  \n",
       "0          89.9333               College hostel  \n",
       "1          88.3214             Hasanur Builders  \n",
       "2          78.2333               Geet shirbhate  \n",
       "3          88.2944  Ibiza The Fern Resort & Spa  \n",
       "4          89.9333               College hostel  "
      ]
     },
     "execution_count": 16,
     "metadata": {},
     "output_type": "execute_result"
    }
   ],
   "source": [
    "# 8. To create a marker layer map between the four cities.\n",
    "#  Combine the four city DataFrames into one DataFrame using the concat() function.\n",
    "itinerary_df = pd.concat([vacation_start,vacation_stop1,vacation_stop2,vacation_stop3,vacation_end],ignore_index=True)\n",
    "itinerary_df"
   ]
  },
  {
   "cell_type": "code",
   "execution_count": 17,
   "metadata": {},
   "outputs": [],
   "source": [
    "# 9 Using the template add city name, the country code, the weather description and maximum temperature for the city. \n",
    "itinerary_info = \"\"\"\n",
    "<dl>\n",
    "<dt>City</dt><dd>{City}</dd>\n",
    "<dt>Country</dt><dd>{Country}</dd>\n",
    "<dt>Max Temperature\t</dt><dd>{Max Temperature} °F</dd>\n",
    "<dt>Description</dt><dd>{Description}</dd>\n",
    "</dl>\n",
    "\"\"\"\n",
    "\n",
    "# 10a Get the data from each row and add it to the formatting template and store the data in a list.\n",
    "hotel_info = [itinerary_info.format(**row) for index, row in itinerary_df.iterrows()]\n",
    "\n",
    "# 10b. Get the latitude and longitude from each row and store in a new DataFrame.\n",
    "locations = itinerary_df[[\"Latitude (Deg)\", \"Longitude (Deg)\"]]"
   ]
  },
  {
   "cell_type": "code",
   "execution_count": 18,
   "metadata": {},
   "outputs": [
    {
     "data": {
      "application/vnd.jupyter.widget-view+json": {
       "model_id": "135e0f1af8df43ba9dabd77c01d0dd19",
       "version_major": 2,
       "version_minor": 0
      },
      "text/plain": [
       "Figure(layout=FigureLayout(height='420px'))"
      ]
     },
     "metadata": {},
     "output_type": "display_data"
    }
   ],
   "source": [
    "# 4a. Add a marker layer for each city to the map.\n",
    "marker_layer_itinerary = gmaps.marker_layer(locations, info_box_content=itinerary_info)\n",
    "fig = gmaps.figure()\n",
    "fig.add_layer(marker_layer_itinerary)\n",
    "\n",
    "# 4b. Display the figure\n",
    "\n",
    "fig"
   ]
  },
  {
   "cell_type": "code",
   "execution_count": null,
   "metadata": {},
   "outputs": [],
   "source": []
  }
 ],
 "metadata": {
  "kernelspec": {
   "display_name": "Python 3",
   "language": "python",
   "name": "python3"
  },
  "language_info": {
   "codemirror_mode": {
    "name": "ipython",
    "version": 3
   },
   "file_extension": ".py",
   "mimetype": "text/x-python",
   "name": "python",
   "nbconvert_exporter": "python",
   "pygments_lexer": "ipython3",
   "version": "3.8.8"
  },
  "latex_envs": {
   "LaTeX_envs_menu_present": true,
   "autoclose": false,
   "autocomplete": true,
   "bibliofile": "biblio.bib",
   "cite_by": "apalike",
   "current_citInitial": 1,
   "eqLabelWithNumbers": true,
   "eqNumInitial": 1,
   "hotkeys": {
    "equation": "Ctrl-E",
    "itemize": "Ctrl-I"
   },
   "labels_anchors": false,
   "latex_user_defs": false,
   "report_style_numbering": false,
   "user_envs_cfg": false
  }
 },
 "nbformat": 4,
 "nbformat_minor": 2
}
